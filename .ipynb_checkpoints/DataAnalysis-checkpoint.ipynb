{
 "cells": [
  {
   "cell_type": "code",
   "execution_count": null,
   "id": "74c3b140",
   "metadata": {},
   "outputs": [],
   "source": [
    "import matplotlib.pyplot as plt\n",
    "import seaborn as sns\n",
    "import numpy as np\n",
    "import scipy \n",
    "import pandas as pd\n",
    "from sklearn.preprocessing import LabelEncoder"
   ]
  },
  {
   "cell_type": "code",
   "execution_count": null,
   "id": "2384646a",
   "metadata": {},
   "outputs": [],
   "source": [
    "#Import data\n",
    "data = pd.read_csv(\"./encoded_data.csv\")\n",
    "data.head()"
   ]
  },
  {
   "cell_type": "code",
   "execution_count": null,
   "id": "1e24ac6a",
   "metadata": {},
   "outputs": [],
   "source": [
    "data.info()"
   ]
  },
  {
   "cell_type": "code",
   "execution_count": null,
   "id": "9a1983f8",
   "metadata": {},
   "outputs": [],
   "source": [
    "from matplotlib.lines import Line2D\n",
    "    \n",
    "g = sns.lineplot(data=data.MWP_BC, color=\"g\")\n",
    "sns.lineplot(data=data.MWP_AC, color=\"b\", ax=g.axes.twinx())\n",
    "g.legend(handles=[Line2D([], [], marker='_', color=\"g\", label='MWP_BC'), Line2D([], [], marker='_', color=\"b\", label='MWP_AC')])"
   ]
  },
  {
   "cell_type": "code",
   "execution_count": null,
   "id": "df5a7eef",
   "metadata": {},
   "outputs": [],
   "source": [
    "from matplotlib.lines import Line2D\n",
    "    \n",
    "g = sns.lineplot(data=data.MQB_BC, color=\"g\")\n",
    "sns.lineplot(data=data.MQB_AC, color=\"b\", ax=g.axes.twinx())\n",
    "g.legend(handles=[Line2D([], [], marker='_', color=\"g\", label='MQB_BC'), Line2D([], [], marker='_', color=\"b\", label='MQB_AC')])"
   ]
  },
  {
   "cell_type": "code",
   "execution_count": null,
   "id": "27b8be9d",
   "metadata": {},
   "outputs": [],
   "source": [
    "data[\"Gender\"]= pd.to_numeric(data[\"Gender\"], downcast=\"float\")"
   ]
  },
  {
   "cell_type": "code",
   "execution_count": null,
   "id": "d2a1c800",
   "metadata": {},
   "outputs": [],
   "source": [
    "gender = data['Gender'].value_counts()"
   ]
  },
  {
   "cell_type": "code",
   "execution_count": null,
   "id": "5500ee60",
   "metadata": {},
   "outputs": [],
   "source": [
    "plt.figure(figsize=(7,6))\n",
    "ax = gender.plot(kind='bar', rot=0, color=\"b\")\n",
    "ax.set_title(\"Gender count\", y=1)\n",
    "ax.set_xlabel(\"Gender\")\n",
    "ax.set_ylabel(\"No of people\")\n",
    "ax.set_xticklabels(('Male','Female'))\n",
    "\n",
    "for rect in ax.patches:\n",
    "    y_value = rect.get_height()\n",
    "    x_value = rect.get_x() + rect.get_width() / 2\n",
    "    space = 1\n",
    "    label = format(y_value)\n",
    "    ax.annotate(label, (x_value, y_value),xytext=(0, space), textcoords=\"offset points\", ha='center', va='bottom')\n",
    "plt.show()"
   ]
  },
  {
   "cell_type": "code",
   "execution_count": null,
   "id": "8df85580",
   "metadata": {},
   "outputs": [],
   "source": [
    "brand = data['Brand'].value_counts()"
   ]
  },
  {
   "cell_type": "code",
   "execution_count": null,
   "id": "c10e6827",
   "metadata": {},
   "outputs": [],
   "source": [
    "plt.figure(figsize=(7,6))\n",
    "ax = brand.plot(kind='bar', rot=0, color=\"b\")\n",
    "ax.set_title(\"Brand count\", y=1)\n",
    "ax.set_xlabel(\"Brand\")\n",
    "ax.set_ylabel(\"No of people\")\n",
    "\n",
    "\n",
    "for rect in ax.patches:\n",
    "    y_value = rect.get_height()\n",
    "    x_value = rect.get_x() + rect.get_width() / 2\n",
    "    space = 1\n",
    "    label = format(y_value)\n",
    "    ax.annotate(label, (x_value, y_value),xytext=(0, space), textcoords=\"offset points\", ha='center', va='bottom')\n",
    "plt.show()"
   ]
  },
  {
   "cell_type": "code",
   "execution_count": null,
   "id": "18ec1154",
   "metadata": {},
   "outputs": [],
   "source": [
    "type_san = data['Type'].value_counts()"
   ]
  },
  {
   "cell_type": "code",
   "execution_count": null,
   "id": "bd9b6806",
   "metadata": {},
   "outputs": [],
   "source": [
    "plt.figure(figsize=(7,6))\n",
    "ax = type_san.plot(kind='bar', rot=0, color=\"b\")\n",
    "ax.set_title(\"Sanitizer type count\", y=1)\n",
    "ax.set_xlabel(\"Type\")\n",
    "ax.set_ylabel(\"No of people\")\n",
    "\n",
    "\n",
    "for rect in ax.patches:\n",
    "    y_value = rect.get_height()\n",
    "    x_value = rect.get_x() + rect.get_width() / 2\n",
    "    space = 1\n",
    "    label = format(y_value)\n",
    "    ax.annotate(label, (x_value, y_value),xytext=(0, space), textcoords=\"offset points\", ha='center', va='bottom')\n",
    "plt.show()"
   ]
  },
  {
   "cell_type": "code",
   "execution_count": null,
   "id": "04dab225",
   "metadata": {},
   "outputs": [],
   "source": [
    "age = data['Age'].value_counts()"
   ]
  },
  {
   "cell_type": "code",
   "execution_count": null,
   "id": "ddccae73",
   "metadata": {},
   "outputs": [],
   "source": [
    "plt.figure(figsize=(7,6))\n",
    "ax = age.plot(kind='bar', rot=0, color=\"b\")\n",
    "ax.set_title(\"Age count\", y=1)\n",
    "ax.set_xlabel(\"Age\")\n",
    "ax.set_ylabel(\"No of people\")\n",
    "\n",
    "\n",
    "for rect in ax.patches:\n",
    "    y_value = rect.get_height()\n",
    "    x_value = rect.get_x() + rect.get_width() / 2\n",
    "    space = 1\n",
    "    label = format(y_value)\n",
    "    ax.annotate(label, (x_value, y_value),xytext=(0, space), textcoords=\"offset points\", ha='center', va='bottom')\n",
    "plt.show()"
   ]
  },
  {
   "cell_type": "code",
   "execution_count": null,
   "id": "66ec9218",
   "metadata": {},
   "outputs": [],
   "source": [
    "columns = ['MWP_BC', 'MWP_AC']\n",
    "\n",
    "for column in columns:\n",
    "    plt.figure()\n",
    "    sns.kdeplot(data=data, x=column)\n",
    "    plt.show()"
   ]
  }
 ],
 "metadata": {
  "kernelspec": {
   "display_name": "Python 3",
   "language": "python",
   "name": "python3"
  },
  "language_info": {
   "codemirror_mode": {
    "name": "ipython",
    "version": 3
   },
   "file_extension": ".py",
   "mimetype": "text/x-python",
   "name": "python",
   "nbconvert_exporter": "python",
   "pygments_lexer": "ipython3",
   "version": "3.8.10"
  }
 },
 "nbformat": 4,
 "nbformat_minor": 5
}
