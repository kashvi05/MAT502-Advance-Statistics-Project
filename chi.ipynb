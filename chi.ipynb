{
 "cells": [
  {
   "cell_type": "code",
   "execution_count": 49,
   "metadata": {},
   "outputs": [],
   "source": [
    "import pandas as pd\n",
    "import scipy.stats\n",
    "import seaborn as sns\n",
    "import numpy as np\n",
    "from scipy.stats import chi2"
   ]
  },
  {
   "cell_type": "code",
   "execution_count": 40,
   "metadata": {},
   "outputs": [],
   "source": [
    "chi_data = pd.read_csv(\"data.csv\")"
   ]
  },
  {
   "cell_type": "code",
   "execution_count": 41,
   "metadata": {},
   "outputs": [
    {
     "data": {
      "text/html": [
       "<div>\n",
       "<style scoped>\n",
       "    .dataframe tbody tr th:only-of-type {\n",
       "        vertical-align: middle;\n",
       "    }\n",
       "\n",
       "    .dataframe tbody tr th {\n",
       "        vertical-align: top;\n",
       "    }\n",
       "\n",
       "    .dataframe thead th {\n",
       "        text-align: right;\n",
       "    }\n",
       "</style>\n",
       "<table border=\"1\" class=\"dataframe\">\n",
       "  <thead>\n",
       "    <tr style=\"text-align: right;\">\n",
       "      <th></th>\n",
       "      <th>Name</th>\n",
       "      <th>Age</th>\n",
       "      <th>Gender</th>\n",
       "      <th>MWP_BC</th>\n",
       "      <th>MQB_BC</th>\n",
       "      <th>MWP_AC</th>\n",
       "      <th>MQB_AC</th>\n",
       "      <th>Type</th>\n",
       "      <th>Brand</th>\n",
       "    </tr>\n",
       "  </thead>\n",
       "  <tbody>\n",
       "    <tr>\n",
       "      <th>0</th>\n",
       "      <td>Aarjav</td>\n",
       "      <td>16-20</td>\n",
       "      <td>Male</td>\n",
       "      <td>0.0</td>\n",
       "      <td>0</td>\n",
       "      <td>0.0</td>\n",
       "      <td>0</td>\n",
       "      <td>Alcohol based</td>\n",
       "      <td>Dettol</td>\n",
       "    </tr>\n",
       "    <tr>\n",
       "      <th>1</th>\n",
       "      <td>Aashna</td>\n",
       "      <td>16-20</td>\n",
       "      <td>Female</td>\n",
       "      <td>20.0</td>\n",
       "      <td>20</td>\n",
       "      <td>90.0</td>\n",
       "      <td>200</td>\n",
       "      <td>Alcohol based</td>\n",
       "      <td>Dettol</td>\n",
       "    </tr>\n",
       "    <tr>\n",
       "      <th>2</th>\n",
       "      <td>Aatman Vaidya</td>\n",
       "      <td>16-20</td>\n",
       "      <td>Male</td>\n",
       "      <td>30.0</td>\n",
       "      <td>0</td>\n",
       "      <td>70.0</td>\n",
       "      <td>900</td>\n",
       "      <td>Alcohol based</td>\n",
       "      <td>Any</td>\n",
       "    </tr>\n",
       "    <tr>\n",
       "      <th>3</th>\n",
       "      <td>Aayushi</td>\n",
       "      <td>16-20</td>\n",
       "      <td>Female</td>\n",
       "      <td>50.0</td>\n",
       "      <td>50</td>\n",
       "      <td>95.0</td>\n",
       "      <td>1000</td>\n",
       "      <td>Anything is fine</td>\n",
       "      <td>Dettol</td>\n",
       "    </tr>\n",
       "    <tr>\n",
       "      <th>4</th>\n",
       "      <td>Aayushi Sameriya</td>\n",
       "      <td>16-20</td>\n",
       "      <td>Female</td>\n",
       "      <td>70.0</td>\n",
       "      <td>0</td>\n",
       "      <td>100.0</td>\n",
       "      <td>1</td>\n",
       "      <td>Alcohol based</td>\n",
       "      <td>Dettol</td>\n",
       "    </tr>\n",
       "  </tbody>\n",
       "</table>\n",
       "</div>"
      ],
      "text/plain": [
       "               Name    Age  Gender  MWP_BC  MQB_BC  MWP_AC  MQB_AC  \\\n",
       "0            Aarjav  16-20    Male     0.0       0     0.0       0   \n",
       "1            Aashna  16-20  Female    20.0      20    90.0     200   \n",
       "2     Aatman Vaidya  16-20    Male    30.0       0    70.0     900   \n",
       "3           Aayushi  16-20  Female    50.0      50    95.0    1000   \n",
       "4  Aayushi Sameriya  16-20  Female    70.0       0   100.0       1   \n",
       "\n",
       "               Type   Brand  \n",
       "0     Alcohol based  Dettol  \n",
       "1     Alcohol based  Dettol  \n",
       "2     Alcohol based    Any   \n",
       "3  Anything is fine  Dettol  \n",
       "4     Alcohol based  Dettol  "
      ]
     },
     "execution_count": 41,
     "metadata": {},
     "output_type": "execute_result"
    }
   ],
   "source": [
    "chi_data.head()"
   ]
  },
  {
   "cell_type": "code",
   "execution_count": 32,
   "metadata": {},
   "outputs": [],
   "source": [
    "# chi_data.drop([\"Name\",\"Unnamed: 0\",\"Age\",\"MQB_BC\",\"MQB_AC\",\"Type\",\"Brand\"], axis=1,inplace=True)"
   ]
  },
  {
   "cell_type": "code",
   "execution_count": null,
   "metadata": {},
   "outputs": [],
   "source": [
    "chi_data.head()"
   ]
  },
  {
   "cell_type": "code",
   "execution_count": 59,
   "metadata": {},
   "outputs": [],
   "source": [
    "def chi_square_test(variable_1, variable_2):\n",
    "    independence_data_chi=pd.crosstab(chi_data[variable_1],chi_data[variable_2])\n",
    "    Observed_values = independence_data_chi.values\n",
    "    print(\"The observed Values are:\\n\", Observed_values)\n",
    "    b = scipy.stats.chi2_contingency(independence_data_chi)\n",
    "    Expected_value = b[3]\n",
    "    print(\"\\nThe expected Values are :\\n\", Expected_value)\n",
    "    no_of_rows=len(independence_data_chi.iloc[0:2,0])\n",
    "    no_of_columns=len(independence_data_chi.iloc[0,0:3])\n",
    "    df=(no_of_rows-1)*(no_of_columns-1)\n",
    "    print(\"\\nDegree of Freedom: \",df)\n",
    "    alpha = 0.05\n",
    "    chi_square = sum([(o-e)**2./e for o,e in zip(Observed_values,Expected_value)])\n",
    "    chi_square_statistic=chi_square[0]+chi_square[1]\n",
    "    p_value=chi2.cdf(x=chi_square_statistic,df=df)\n",
    "    print(\"\\nP-value:\",p_value)\n",
    "    if p_value <= alpha:\n",
    "        print(\"\\nWe Reject Null Hypothesis, the two variables %s and %s are dependent\" %(variable_1,variable_2))\n",
    "    else:\n",
    "        print(\"\\nThere is no enough evidence to Reject null hypothesis, hence the two variables %s and %s are independent\" %(variable_1,variable_2))"
   ]
  },
  {
   "cell_type": "code",
   "execution_count": 61,
   "metadata": {},
   "outputs": [
    {
     "name": "stdout",
     "output_type": "stream",
     "text": [
      "The observed Values are:\n",
      " [[16  5 11]\n",
      " [31  7  9]]\n",
      "\n",
      "The expected Values are :\n",
      " [[19.03797468  4.86075949  8.10126582]\n",
      " [27.96202532  7.13924051 11.89873418]]\n",
      "\n",
      "Degree of Freedom:  2\n",
      "\n",
      "P-value: 0.33686477201788584\n",
      "\n",
      "There is no enough evidence to Reject null hypothesis, hence the two variables Gender and Type are independent\n"
     ]
    }
   ],
   "source": [
    "chi_square_test('Gender','Type')"
   ]
  },
  {
   "cell_type": "code",
   "execution_count": 62,
   "metadata": {},
   "outputs": [
    {
     "name": "stdout",
     "output_type": "stream",
     "text": [
      "The observed Values are:\n",
      " [[ 0  0  0 20  0  2  8  2]\n",
      " [ 3  1  1 27  2  3  8  2]]\n",
      "\n",
      "The expected Values are :\n",
      " [[ 1.21518987  0.40506329  0.40506329 19.03797468  0.81012658  2.02531646\n",
      "   6.48101266  1.62025316]\n",
      " [ 1.78481013  0.59493671  0.59493671 27.96202532  1.18987342  2.97468354\n",
      "   9.51898734  2.37974684]]\n",
      "\n",
      "Degree of Freedom:  2\n",
      "\n",
      "P-value: 0.7437757208611362\n",
      "\n",
      "There is no enough evidence to Reject null hypothesis, hence the two variables Gender and Brand are independent\n"
     ]
    }
   ],
   "source": [
    "chi_square_test('Gender','Brand')"
   ]
  },
  {
   "cell_type": "code",
   "execution_count": 66,
   "metadata": {},
   "outputs": [
    {
     "name": "stdout",
     "output_type": "stream",
     "text": [
      "The observed Values are:\n",
      " [[0 1 1 0 1 0 1 3 2 1 4 1 3 1 1 1 3 0 3 0 0 0 1 2 0 0 1 0 1]\n",
      " [1 0 1 1 0 1 0 5 0 1 6 1 4 0 1 0 3 1 6 1 1 1 5 3 1 1 1 1 0]]\n",
      "\n",
      "The expected Values are :\n",
      " [[0.40506329 0.40506329 0.81012658 0.40506329 0.40506329 0.40506329\n",
      "  0.40506329 3.24050633 0.81012658 0.81012658 4.05063291 0.81012658\n",
      "  2.83544304 0.40506329 0.81012658 0.40506329 2.43037975 0.40506329\n",
      "  3.64556962 0.40506329 0.40506329 0.40506329 2.43037975 2.02531646\n",
      "  0.40506329 0.40506329 0.81012658 0.40506329 0.40506329]\n",
      " [0.59493671 0.59493671 1.18987342 0.59493671 0.59493671 0.59493671\n",
      "  0.59493671 4.75949367 1.18987342 1.18987342 5.94936709 1.18987342\n",
      "  4.16455696 0.59493671 1.18987342 0.59493671 3.56962025 0.59493671\n",
      "  5.35443038 0.59493671 0.59493671 0.59493671 3.56962025 2.97468354\n",
      "  0.59493671 0.59493671 1.18987342 0.59493671 0.59493671]]\n",
      "\n",
      "Degree of Freedom:  2\n",
      "\n",
      "P-value: 0.6586341598991587\n",
      "\n",
      "There is no enough evidence to Reject null hypothesis, hence the two variables Gender and MQB_AC are independent\n"
     ]
    }
   ],
   "source": [
    "chi_square_test('Gender','MQB_AC')"
   ]
  }
 ],
 "metadata": {
  "interpreter": {
   "hash": "916dbcbb3f70747c44a77c7bcd40155683ae19c65e1c03b4aa3499c5328201f1"
  },
  "kernelspec": {
   "display_name": "Python 3.8.10 64-bit",
   "language": "python",
   "name": "python3"
  },
  "language_info": {
   "codemirror_mode": {
    "name": "ipython",
    "version": 3
   },
   "file_extension": ".py",
   "mimetype": "text/x-python",
   "name": "python",
   "nbconvert_exporter": "python",
   "pygments_lexer": "ipython3",
   "version": "3.8.10"
  },
  "orig_nbformat": 4
 },
 "nbformat": 4,
 "nbformat_minor": 2
}
